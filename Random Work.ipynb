{
 "cells": [
  {
   "cell_type": "markdown",
   "metadata": {},
   "source": [
    "#### Open Notepad, type \"Hello World!\", Check the font and exit with \"Don't Save\""
   ]
  },
  {
   "cell_type": "code",
<<<<<<< HEAD
   "execution_count": 46,
=======
   "execution_count": null,
>>>>>>> 1d6bb4e09298066d0d1bca88bedd50ab415dead4
   "metadata": {},
   "outputs": [],
   "source": [
    "from pywinauto.application import Application\n",
    "app = Application().start(\"notepad.exe\")\n",
<<<<<<< HEAD
    "app.top_window().Edit.type_keys(\"Hello world! \\n\", with_spaces=True, with_newlines=True)\n",
    "app.top_window().menu_select(\"Help->About Notepad\") \n",
    "app.top_window().Ok.click()\n",
    "\n",
    "#Font\n",
    "app.top_window().menu_select(\"Format->Font\") \n",
    "app.Font.ComboBox.select('Consolas')\n",
    "app.Font.ComboBox2.select('Italic')\n",
    "app.Font.ComboBox3.type_keys('18')\n",
    "app.top_window().Ok.click()\n",
    "app.top_window().Edit.type_keys(\"UI Automation is fun!\", with_spaces=True)\n",
    "\n",
    "\n",
    "# Print\n",
    "app.top_window().menu_select('File->Print')\n",
    "app.Print.wait('ready')\n",
    "app.top_window().Cancel.click()\n",
    "\n",
    "#Exit\n",
=======
    "app.top_window().Edit.type_keys(\"Hello world!\", with_spaces=True)\n",
    "app.top_window().menu_select(\"Help->About Notepad\") \n",
    "app.top_window().Ok.click()\n",
    "app.top_window().menu_select(\"Format->Font\") \n",
    "app.top_window().Ok.click()\n",
>>>>>>> 1d6bb4e09298066d0d1bca88bedd50ab415dead4
    "app.top_window().menu_select(\"File->Exit\") \n",
    "app.top_window().DontSave.click()"
   ]
  },
  {
   "cell_type": "markdown",
   "metadata": {},
   "source": [
    "#### Event"
   ]
  },
  {
   "cell_type": "code",
   "execution_count": null,
   "metadata": {},
   "outputs": [],
   "source": [
    "import win32api\n",
    "import win32con\n",
    "from threading import Timer\n",
    "from pywinauto.win32_hooks import Hook\n",
    "from pywinauto.win32_hooks import KeyboardEvent\n",
    "from pywinauto.win32_hooks import MouseEvent\n",
    "\n",
    "\n",
    "def on_timer():\n",
    "    \"\"\"Callback by timer out\"\"\"\n",
    "    win32api.PostThreadMessage(main_thread_id, win32con.WM_QUIT, 0, 0);\n",
    "\n",
    "\n",
    "def on_event(args):\n",
    "    \"\"\"Callback for keyboard and mouse events\"\"\"\n",
    "    if isinstance(args, KeyboardEvent):\n",
    "        if args.current_key == 'A' and args.event_type == 'key down' and 'Lcontrol' in args.pressed_key:\n",
    "            print(\"Ctrl + A was pressed\");\n",
    "\n",
    "        if args.current_key == 'K' and args.event_type == 'key down':\n",
    "            print(\"K was pressed\");\n",
    "\n",
    "        if args.current_key == 'M' and args.event_type == 'key down' and 'U' in args.pressed_key:\n",
    "            hk.unhook_mouse()\n",
    "            print(\"Unhook mouse\")\n",
    "\n",
    "        if args.current_key == 'K' and args.event_type == 'key down' and 'U' in args.pressed_key:\n",
    "            hk.unhook_keyboard()\n",
    "            print(\"Unhook keyboard\")\n",
    "\n",
    "    if isinstance(args, MouseEvent):\n",
    "        if args.current_key == 'RButton' and args.event_type == 'key down':\n",
    "            print (\"Right button pressed\")\n",
    "\n",
    "        if args.current_key == 'WheelButton' and args.event_type == 'key down':\n",
    "            print(\"Wheel button pressed\")\n",
    "\n",
    "hk = Hook()\n",
    "hk.handler = on_event\n",
    "main_thread_id = win32api.GetCurrentThreadId()\n",
    "t = Timer(5.0, on_timer)  # Quit after 5 seconds\n",
    "t.start()\n",
    "hk.hook(keyboard=True, mouse=True)"
   ]
  },
  {
   "cell_type": "markdown",
   "metadata": {},
   "source": [
    "#### Find out a folder, click the property and print out the tree of that folder"
   ]
  },
  {
   "cell_type": "code",
   "execution_count": null,
   "metadata": {},
   "outputs": [],
   "source": [
    "from pywinauto import Desktop, Application\n",
    "Application().start('explorer.exe \"C:\\\\Program Files\"')\n",
    "\n",
    "\n",
    "app = Application(backend=\"uia\").connect(path=\"explorer.exe\", title=\"Program Files\")\n",
    "app.ProgramFiles.set_focus()\n",
    "common_files = app.ProgramFiles.ItemsView.get_item('Windows Media Player')\n",
    "common_files.right_click_input()\n",
    "app.ContextMenu.Properties.invoke()\n",
    "\n",
    "Properties = Desktop(backend='uia').Windows_Media_Player_Properties\n",
    "print('\\n'.join([str(x) for x in app.top_window().children()]))\n",
    "print('---')\n",
    "Properties.print_control_identifiers()\n",
    "Properties.Cancel.click()\n",
    "Properties.wait_not('visible')"
   ]
  },
  {
   "cell_type": "code",
   "execution_count": null,
   "metadata": {},
   "outputs": [],
   "source": []
  }
 ],
 "metadata": {
  "kernelspec": {
   "display_name": "Python 3",
   "language": "python",
   "name": "python3"
  },
  "language_info": {
   "codemirror_mode": {
    "name": "ipython",
    "version": 3
   },
   "file_extension": ".py",
   "mimetype": "text/x-python",
   "name": "python",
   "nbconvert_exporter": "python",
   "pygments_lexer": "ipython3",
   "version": "3.7.4"
  }
 },
 "nbformat": 4,
 "nbformat_minor": 2
}
